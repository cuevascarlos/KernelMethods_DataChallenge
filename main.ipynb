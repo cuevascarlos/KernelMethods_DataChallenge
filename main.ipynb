{
 "cells": [
  {
   "cell_type": "markdown",
   "metadata": {},
   "source": [
    "# Data Challenge\n",
    "\n",
    "## Course: Kernel Methods for Machine Learning\n",
    "### M2-MVA (ENS-Paris Saclay)\n",
    "\n",
    "Authors: Carlos Cuevas Villarmin and Javier Alejandro Lopetegui Gonzalez"
   ]
  },
  {
   "cell_type": "markdown",
   "metadata": {},
   "source": [
    "**0. Import libraries**"
   ]
  },
  {
   "cell_type": "code",
   "execution_count": 2,
   "metadata": {},
   "outputs": [
    {
     "name": "stdout",
     "output_type": "stream",
     "text": [
      "Intel MKL WARNING: Support of Intel(R) Streaming SIMD Extensions 4.2 (Intel(R) SSE4.2) enabled only processors has been deprecated. Intel oneAPI Math Kernel Library 2025.0 will require Intel(R) Advanced Vector Extensions (Intel(R) AVX) instructions.\n",
      "Intel MKL WARNING: Support of Intel(R) Streaming SIMD Extensions 4.2 (Intel(R) SSE4.2) enabled only processors has been deprecated. Intel oneAPI Math Kernel Library 2025.0 will require Intel(R) Advanced Vector Extensions (Intel(R) AVX) instructions.\n"
     ]
    }
   ],
   "source": [
    "import pickle as pkl\n",
    "from scipy import optimize\n",
    "from scipy.linalg import cho_factor, cho_solve"
   ]
  },
  {
   "cell_type": "code",
   "execution_count": 3,
   "metadata": {},
   "outputs": [],
   "source": [
    "import pandas as pd\n",
    "import numpy as np\n",
    "import matplotlib.pyplot as plt\n",
    "import seaborn as sns"
   ]
  },
  {
   "cell_type": "markdown",
   "metadata": {},
   "source": [
    "**1. Load training data.** Data is divided into three files. On the one hand the training data is provided in *Xtr.csv* and its corresponding labels in *Ytr.csv*. On the other hand, test data is in *Xte.csv* but it will be loaded once the model is trained.\n",
    "\n",
    "The information about the structure of the data provided by the authors of the challenge is the following:\n",
    "\n",
    "- Xtr.csv contains a matrix of size 5000 x 3072. One row represents a color image of size 32 x 32 pixels. The first 1024 values represent pixel intensities on the red channel, then the next 1024 represent the green channel, and the last 1024 entries, the blue channel. To make sure that you are reading the data correctly, you need to find a way to visualize images. Note that images have been pre-processed, and do not appear as a natural image.\n",
    "\n",
    "- Ytr.csv contains a vector of labels corresponding to the training data, in the same format as a submission file. \n",
    "\n",
    "- Xte.csv contains 2000 test images. These are the ones you need to classify. The first row corresponds to image Id=1, then the last row corresponds to image Id=2000.\n",
    "\n",
    "Taking it into account the first step is to load the data."
   ]
  },
  {
   "cell_type": "code",
   "execution_count": 4,
   "metadata": {},
   "outputs": [],
   "source": [
    "#Read training data\n",
    "data_path = 'data/'\n",
    "X_train = pd.read_csv(data_path+'Xtr.csv', sep=',', header=None)\n",
    "Y_train = pd.read_csv(data_path+'Ytr.csv', sep=',')"
   ]
  },
  {
   "cell_type": "code",
   "execution_count": 5,
   "metadata": {},
   "outputs": [],
   "source": [
    "import numpy as np \n",
    "import pandas as pd \n",
    "\n",
    "Xtr = np.array(pd.read_csv('data/Xtr.csv',header=None,sep=',',usecols=range(3072))) \n",
    "Xte = np.array(pd.read_csv('data/Xte.csv',header=None,sep=',',usecols=range(3072))) \n",
    "Ytr = np.array(pd.read_csv('data/Ytr.csv',sep=',',usecols=[1])).squeeze() \n",
    "\n",
    "# define your learning algorithm here \n",
    "# # for instance, define an object called ``classifier'' \n",
    "# # classifier.train(Ytr,Xtr) \n",
    "# # predict on the test data \n",
    "# # for instance, Yte = classifier.fit(Xte) \n",
    "# Yte = {'Prediction' : Yte} \n",
    "# dataframe = pd.DataFrame(Yte) dataframe.index += 1 \n",
    "# dataframe.to_csv('Yte_pred.csv',index_label='Id') "
   ]
  },
  {
   "cell_type": "code",
   "execution_count": 6,
   "metadata": {},
   "outputs": [
    {
     "data": {
      "text/html": [
       "<div>\n",
       "<style scoped>\n",
       "    .dataframe tbody tr th:only-of-type {\n",
       "        vertical-align: middle;\n",
       "    }\n",
       "\n",
       "    .dataframe tbody tr th {\n",
       "        vertical-align: top;\n",
       "    }\n",
       "\n",
       "    .dataframe thead th {\n",
       "        text-align: right;\n",
       "    }\n",
       "</style>\n",
       "<table border=\"1\" class=\"dataframe\">\n",
       "  <thead>\n",
       "    <tr style=\"text-align: right;\">\n",
       "      <th></th>\n",
       "      <th>0</th>\n",
       "      <th>1</th>\n",
       "      <th>2</th>\n",
       "      <th>3</th>\n",
       "      <th>4</th>\n",
       "      <th>5</th>\n",
       "      <th>6</th>\n",
       "      <th>7</th>\n",
       "      <th>8</th>\n",
       "      <th>9</th>\n",
       "      <th>...</th>\n",
       "      <th>3063</th>\n",
       "      <th>3064</th>\n",
       "      <th>3065</th>\n",
       "      <th>3066</th>\n",
       "      <th>3067</th>\n",
       "      <th>3068</th>\n",
       "      <th>3069</th>\n",
       "      <th>3070</th>\n",
       "      <th>3071</th>\n",
       "      <th>3072</th>\n",
       "    </tr>\n",
       "  </thead>\n",
       "  <tbody>\n",
       "    <tr>\n",
       "      <th>0</th>\n",
       "      <td>0.007018</td>\n",
       "      <td>0.000323</td>\n",
       "      <td>0.002215</td>\n",
       "      <td>0.000781</td>\n",
       "      <td>-0.005636</td>\n",
       "      <td>-0.001525</td>\n",
       "      <td>-0.001090</td>\n",
       "      <td>-0.001907</td>\n",
       "      <td>0.004179</td>\n",
       "      <td>-0.004225</td>\n",
       "      <td>...</td>\n",
       "      <td>-0.002166</td>\n",
       "      <td>-0.005094</td>\n",
       "      <td>0.001906</td>\n",
       "      <td>-0.006143</td>\n",
       "      <td>-0.013265</td>\n",
       "      <td>-0.013873</td>\n",
       "      <td>0.005223</td>\n",
       "      <td>-0.000860</td>\n",
       "      <td>-0.012881</td>\n",
       "      <td>NaN</td>\n",
       "    </tr>\n",
       "    <tr>\n",
       "      <th>1</th>\n",
       "      <td>0.000819</td>\n",
       "      <td>0.001688</td>\n",
       "      <td>0.002698</td>\n",
       "      <td>0.004685</td>\n",
       "      <td>0.011166</td>\n",
       "      <td>0.017482</td>\n",
       "      <td>0.045989</td>\n",
       "      <td>0.031377</td>\n",
       "      <td>0.032150</td>\n",
       "      <td>0.062066</td>\n",
       "      <td>...</td>\n",
       "      <td>0.007203</td>\n",
       "      <td>0.008634</td>\n",
       "      <td>0.006800</td>\n",
       "      <td>0.014114</td>\n",
       "      <td>0.000243</td>\n",
       "      <td>-0.019384</td>\n",
       "      <td>-0.046763</td>\n",
       "      <td>-0.048919</td>\n",
       "      <td>-0.057449</td>\n",
       "      <td>NaN</td>\n",
       "    </tr>\n",
       "    <tr>\n",
       "      <th>2</th>\n",
       "      <td>-0.016779</td>\n",
       "      <td>0.006662</td>\n",
       "      <td>-0.007226</td>\n",
       "      <td>-0.003798</td>\n",
       "      <td>-0.004273</td>\n",
       "      <td>-0.009955</td>\n",
       "      <td>-0.030925</td>\n",
       "      <td>-0.007064</td>\n",
       "      <td>0.008136</td>\n",
       "      <td>0.000618</td>\n",
       "      <td>...</td>\n",
       "      <td>-0.023748</td>\n",
       "      <td>0.047707</td>\n",
       "      <td>0.072310</td>\n",
       "      <td>0.056837</td>\n",
       "      <td>0.045410</td>\n",
       "      <td>0.015561</td>\n",
       "      <td>0.003272</td>\n",
       "      <td>-0.013745</td>\n",
       "      <td>0.000968</td>\n",
       "      <td>NaN</td>\n",
       "    </tr>\n",
       "    <tr>\n",
       "      <th>3</th>\n",
       "      <td>0.014936</td>\n",
       "      <td>0.004218</td>\n",
       "      <td>0.009732</td>\n",
       "      <td>0.007309</td>\n",
       "      <td>0.004914</td>\n",
       "      <td>0.008172</td>\n",
       "      <td>0.014205</td>\n",
       "      <td>-0.023263</td>\n",
       "      <td>-0.023014</td>\n",
       "      <td>0.011482</td>\n",
       "      <td>...</td>\n",
       "      <td>-0.029634</td>\n",
       "      <td>-0.024069</td>\n",
       "      <td>-0.000788</td>\n",
       "      <td>-0.005010</td>\n",
       "      <td>-0.004260</td>\n",
       "      <td>0.014308</td>\n",
       "      <td>-0.010997</td>\n",
       "      <td>-0.025966</td>\n",
       "      <td>-0.025786</td>\n",
       "      <td>NaN</td>\n",
       "    </tr>\n",
       "    <tr>\n",
       "      <th>4</th>\n",
       "      <td>-0.073091</td>\n",
       "      <td>-0.046800</td>\n",
       "      <td>-0.056235</td>\n",
       "      <td>-0.063619</td>\n",
       "      <td>-0.088387</td>\n",
       "      <td>-0.044682</td>\n",
       "      <td>-0.014172</td>\n",
       "      <td>-0.077535</td>\n",
       "      <td>-0.100056</td>\n",
       "      <td>-0.066161</td>\n",
       "      <td>...</td>\n",
       "      <td>-0.018166</td>\n",
       "      <td>0.012983</td>\n",
       "      <td>0.022676</td>\n",
       "      <td>0.014233</td>\n",
       "      <td>0.047403</td>\n",
       "      <td>0.052239</td>\n",
       "      <td>-0.029272</td>\n",
       "      <td>0.001368</td>\n",
       "      <td>-0.001475</td>\n",
       "      <td>NaN</td>\n",
       "    </tr>\n",
       "  </tbody>\n",
       "</table>\n",
       "<p>5 rows × 3073 columns</p>\n",
       "</div>"
      ],
      "text/plain": [
       "       0         1         2         3         4         5         6     \\\n",
       "0  0.007018  0.000323  0.002215  0.000781 -0.005636 -0.001525 -0.001090   \n",
       "1  0.000819  0.001688  0.002698  0.004685  0.011166  0.017482  0.045989   \n",
       "2 -0.016779  0.006662 -0.007226 -0.003798 -0.004273 -0.009955 -0.030925   \n",
       "3  0.014936  0.004218  0.009732  0.007309  0.004914  0.008172  0.014205   \n",
       "4 -0.073091 -0.046800 -0.056235 -0.063619 -0.088387 -0.044682 -0.014172   \n",
       "\n",
       "       7         8         9     ...      3063      3064      3065      3066  \\\n",
       "0 -0.001907  0.004179 -0.004225  ... -0.002166 -0.005094  0.001906 -0.006143   \n",
       "1  0.031377  0.032150  0.062066  ...  0.007203  0.008634  0.006800  0.014114   \n",
       "2 -0.007064  0.008136  0.000618  ... -0.023748  0.047707  0.072310  0.056837   \n",
       "3 -0.023263 -0.023014  0.011482  ... -0.029634 -0.024069 -0.000788 -0.005010   \n",
       "4 -0.077535 -0.100056 -0.066161  ... -0.018166  0.012983  0.022676  0.014233   \n",
       "\n",
       "       3067      3068      3069      3070      3071  3072  \n",
       "0 -0.013265 -0.013873  0.005223 -0.000860 -0.012881   NaN  \n",
       "1  0.000243 -0.019384 -0.046763 -0.048919 -0.057449   NaN  \n",
       "2  0.045410  0.015561  0.003272 -0.013745  0.000968   NaN  \n",
       "3 -0.004260  0.014308 -0.010997 -0.025966 -0.025786   NaN  \n",
       "4  0.047403  0.052239 -0.029272  0.001368 -0.001475   NaN  \n",
       "\n",
       "[5 rows x 3073 columns]"
      ]
     },
     "metadata": {},
     "output_type": "display_data"
    },
    {
     "data": {
      "text/html": [
       "<div>\n",
       "<style scoped>\n",
       "    .dataframe tbody tr th:only-of-type {\n",
       "        vertical-align: middle;\n",
       "    }\n",
       "\n",
       "    .dataframe tbody tr th {\n",
       "        vertical-align: top;\n",
       "    }\n",
       "\n",
       "    .dataframe thead th {\n",
       "        text-align: right;\n",
       "    }\n",
       "</style>\n",
       "<table border=\"1\" class=\"dataframe\">\n",
       "  <thead>\n",
       "    <tr style=\"text-align: right;\">\n",
       "      <th></th>\n",
       "      <th>Id</th>\n",
       "      <th>Prediction</th>\n",
       "    </tr>\n",
       "  </thead>\n",
       "  <tbody>\n",
       "    <tr>\n",
       "      <th>0</th>\n",
       "      <td>1</td>\n",
       "      <td>8</td>\n",
       "    </tr>\n",
       "    <tr>\n",
       "      <th>1</th>\n",
       "      <td>2</td>\n",
       "      <td>9</td>\n",
       "    </tr>\n",
       "    <tr>\n",
       "      <th>2</th>\n",
       "      <td>3</td>\n",
       "      <td>3</td>\n",
       "    </tr>\n",
       "    <tr>\n",
       "      <th>3</th>\n",
       "      <td>4</td>\n",
       "      <td>1</td>\n",
       "    </tr>\n",
       "    <tr>\n",
       "      <th>4</th>\n",
       "      <td>5</td>\n",
       "      <td>4</td>\n",
       "    </tr>\n",
       "  </tbody>\n",
       "</table>\n",
       "</div>"
      ],
      "text/plain": [
       "   Id  Prediction\n",
       "0   1           8\n",
       "1   2           9\n",
       "2   3           3\n",
       "3   4           1\n",
       "4   5           4"
      ]
     },
     "metadata": {},
     "output_type": "display_data"
    },
    {
     "name": "stdout",
     "output_type": "stream",
     "text": [
      "(5000, 3073) (5000, 2)\n"
     ]
    }
   ],
   "source": [
    "#Transform into pandas dataframe\n",
    "X_train = pd.DataFrame(X_train)\n",
    "Y_train = pd.DataFrame(Y_train)\n",
    "\n",
    "#Visualize the data\n",
    "display(X_train.head())\n",
    "display(Y_train.head())\n",
    "\n",
    "print(X_train.shape, Y_train.shape)\n"
   ]
  },
  {
   "cell_type": "markdown",
   "metadata": {},
   "source": [
    "Drop the last column of X_train because it is generated by the format of the data but it is unnecessary."
   ]
  },
  {
   "cell_type": "code",
   "execution_count": 7,
   "metadata": {},
   "outputs": [],
   "source": [
    "#Drop the last column of X_train\n",
    "X_train = X_train.drop(columns=[3072])"
   ]
  },
  {
   "cell_type": "code",
   "execution_count": 8,
   "metadata": {},
   "outputs": [
    {
     "data": {
      "text/html": [
       "<div>\n",
       "<style scoped>\n",
       "    .dataframe tbody tr th:only-of-type {\n",
       "        vertical-align: middle;\n",
       "    }\n",
       "\n",
       "    .dataframe tbody tr th {\n",
       "        vertical-align: top;\n",
       "    }\n",
       "\n",
       "    .dataframe thead th {\n",
       "        text-align: right;\n",
       "    }\n",
       "</style>\n",
       "<table border=\"1\" class=\"dataframe\">\n",
       "  <thead>\n",
       "    <tr style=\"text-align: right;\">\n",
       "      <th></th>\n",
       "      <th>0</th>\n",
       "      <th>1</th>\n",
       "      <th>2</th>\n",
       "      <th>3</th>\n",
       "      <th>4</th>\n",
       "      <th>5</th>\n",
       "      <th>6</th>\n",
       "      <th>7</th>\n",
       "      <th>8</th>\n",
       "      <th>9</th>\n",
       "      <th>...</th>\n",
       "      <th>3062</th>\n",
       "      <th>3063</th>\n",
       "      <th>3064</th>\n",
       "      <th>3065</th>\n",
       "      <th>3066</th>\n",
       "      <th>3067</th>\n",
       "      <th>3068</th>\n",
       "      <th>3069</th>\n",
       "      <th>3070</th>\n",
       "      <th>3071</th>\n",
       "    </tr>\n",
       "  </thead>\n",
       "  <tbody>\n",
       "    <tr>\n",
       "      <th>0</th>\n",
       "      <td>0.007018</td>\n",
       "      <td>0.000323</td>\n",
       "      <td>0.002215</td>\n",
       "      <td>0.000781</td>\n",
       "      <td>-0.005636</td>\n",
       "      <td>-0.001525</td>\n",
       "      <td>-0.001090</td>\n",
       "      <td>-0.001907</td>\n",
       "      <td>0.004179</td>\n",
       "      <td>-0.004225</td>\n",
       "      <td>...</td>\n",
       "      <td>0.004146</td>\n",
       "      <td>-0.002166</td>\n",
       "      <td>-0.005094</td>\n",
       "      <td>0.001906</td>\n",
       "      <td>-0.006143</td>\n",
       "      <td>-0.013265</td>\n",
       "      <td>-0.013873</td>\n",
       "      <td>0.005223</td>\n",
       "      <td>-0.000860</td>\n",
       "      <td>-0.012881</td>\n",
       "    </tr>\n",
       "    <tr>\n",
       "      <th>1</th>\n",
       "      <td>0.000819</td>\n",
       "      <td>0.001688</td>\n",
       "      <td>0.002698</td>\n",
       "      <td>0.004685</td>\n",
       "      <td>0.011166</td>\n",
       "      <td>0.017482</td>\n",
       "      <td>0.045989</td>\n",
       "      <td>0.031377</td>\n",
       "      <td>0.032150</td>\n",
       "      <td>0.062066</td>\n",
       "      <td>...</td>\n",
       "      <td>-0.000530</td>\n",
       "      <td>0.007203</td>\n",
       "      <td>0.008634</td>\n",
       "      <td>0.006800</td>\n",
       "      <td>0.014114</td>\n",
       "      <td>0.000243</td>\n",
       "      <td>-0.019384</td>\n",
       "      <td>-0.046763</td>\n",
       "      <td>-0.048919</td>\n",
       "      <td>-0.057449</td>\n",
       "    </tr>\n",
       "    <tr>\n",
       "      <th>2</th>\n",
       "      <td>-0.016779</td>\n",
       "      <td>0.006662</td>\n",
       "      <td>-0.007226</td>\n",
       "      <td>-0.003798</td>\n",
       "      <td>-0.004273</td>\n",
       "      <td>-0.009955</td>\n",
       "      <td>-0.030925</td>\n",
       "      <td>-0.007064</td>\n",
       "      <td>0.008136</td>\n",
       "      <td>0.000618</td>\n",
       "      <td>...</td>\n",
       "      <td>-0.029953</td>\n",
       "      <td>-0.023748</td>\n",
       "      <td>0.047707</td>\n",
       "      <td>0.072310</td>\n",
       "      <td>0.056837</td>\n",
       "      <td>0.045410</td>\n",
       "      <td>0.015561</td>\n",
       "      <td>0.003272</td>\n",
       "      <td>-0.013745</td>\n",
       "      <td>0.000968</td>\n",
       "    </tr>\n",
       "    <tr>\n",
       "      <th>3</th>\n",
       "      <td>0.014936</td>\n",
       "      <td>0.004218</td>\n",
       "      <td>0.009732</td>\n",
       "      <td>0.007309</td>\n",
       "      <td>0.004914</td>\n",
       "      <td>0.008172</td>\n",
       "      <td>0.014205</td>\n",
       "      <td>-0.023263</td>\n",
       "      <td>-0.023014</td>\n",
       "      <td>0.011482</td>\n",
       "      <td>...</td>\n",
       "      <td>-0.004505</td>\n",
       "      <td>-0.029634</td>\n",
       "      <td>-0.024069</td>\n",
       "      <td>-0.000788</td>\n",
       "      <td>-0.005010</td>\n",
       "      <td>-0.004260</td>\n",
       "      <td>0.014308</td>\n",
       "      <td>-0.010997</td>\n",
       "      <td>-0.025966</td>\n",
       "      <td>-0.025786</td>\n",
       "    </tr>\n",
       "    <tr>\n",
       "      <th>4</th>\n",
       "      <td>-0.073091</td>\n",
       "      <td>-0.046800</td>\n",
       "      <td>-0.056235</td>\n",
       "      <td>-0.063619</td>\n",
       "      <td>-0.088387</td>\n",
       "      <td>-0.044682</td>\n",
       "      <td>-0.014172</td>\n",
       "      <td>-0.077535</td>\n",
       "      <td>-0.100056</td>\n",
       "      <td>-0.066161</td>\n",
       "      <td>...</td>\n",
       "      <td>0.011063</td>\n",
       "      <td>-0.018166</td>\n",
       "      <td>0.012983</td>\n",
       "      <td>0.022676</td>\n",
       "      <td>0.014233</td>\n",
       "      <td>0.047403</td>\n",
       "      <td>0.052239</td>\n",
       "      <td>-0.029272</td>\n",
       "      <td>0.001368</td>\n",
       "      <td>-0.001475</td>\n",
       "    </tr>\n",
       "  </tbody>\n",
       "</table>\n",
       "<p>5 rows × 3072 columns</p>\n",
       "</div>"
      ],
      "text/plain": [
       "       0         1         2         3         4         5         6     \\\n",
       "0  0.007018  0.000323  0.002215  0.000781 -0.005636 -0.001525 -0.001090   \n",
       "1  0.000819  0.001688  0.002698  0.004685  0.011166  0.017482  0.045989   \n",
       "2 -0.016779  0.006662 -0.007226 -0.003798 -0.004273 -0.009955 -0.030925   \n",
       "3  0.014936  0.004218  0.009732  0.007309  0.004914  0.008172  0.014205   \n",
       "4 -0.073091 -0.046800 -0.056235 -0.063619 -0.088387 -0.044682 -0.014172   \n",
       "\n",
       "       7         8         9     ...      3062      3063      3064      3065  \\\n",
       "0 -0.001907  0.004179 -0.004225  ...  0.004146 -0.002166 -0.005094  0.001906   \n",
       "1  0.031377  0.032150  0.062066  ... -0.000530  0.007203  0.008634  0.006800   \n",
       "2 -0.007064  0.008136  0.000618  ... -0.029953 -0.023748  0.047707  0.072310   \n",
       "3 -0.023263 -0.023014  0.011482  ... -0.004505 -0.029634 -0.024069 -0.000788   \n",
       "4 -0.077535 -0.100056 -0.066161  ...  0.011063 -0.018166  0.012983  0.022676   \n",
       "\n",
       "       3066      3067      3068      3069      3070      3071  \n",
       "0 -0.006143 -0.013265 -0.013873  0.005223 -0.000860 -0.012881  \n",
       "1  0.014114  0.000243 -0.019384 -0.046763 -0.048919 -0.057449  \n",
       "2  0.056837  0.045410  0.015561  0.003272 -0.013745  0.000968  \n",
       "3 -0.005010 -0.004260  0.014308 -0.010997 -0.025966 -0.025786  \n",
       "4  0.014233  0.047403  0.052239 -0.029272  0.001368 -0.001475  \n",
       "\n",
       "[5 rows x 3072 columns]"
      ]
     },
     "metadata": {},
     "output_type": "display_data"
    }
   ],
   "source": [
    "display(X_train.head())"
   ]
  },
  {
   "cell_type": "code",
   "execution_count": 9,
   "metadata": {},
   "outputs": [
    {
     "data": {
      "text/html": [
       "<div>\n",
       "<style scoped>\n",
       "    .dataframe tbody tr th:only-of-type {\n",
       "        vertical-align: middle;\n",
       "    }\n",
       "\n",
       "    .dataframe tbody tr th {\n",
       "        vertical-align: top;\n",
       "    }\n",
       "\n",
       "    .dataframe thead th {\n",
       "        text-align: right;\n",
       "    }\n",
       "</style>\n",
       "<table border=\"1\" class=\"dataframe\">\n",
       "  <thead>\n",
       "    <tr style=\"text-align: right;\">\n",
       "      <th></th>\n",
       "      <th>0</th>\n",
       "      <th>1</th>\n",
       "      <th>2</th>\n",
       "      <th>3</th>\n",
       "      <th>4</th>\n",
       "      <th>5</th>\n",
       "      <th>6</th>\n",
       "      <th>7</th>\n",
       "      <th>8</th>\n",
       "      <th>9</th>\n",
       "      <th>...</th>\n",
       "      <th>3062</th>\n",
       "      <th>3063</th>\n",
       "      <th>3064</th>\n",
       "      <th>3065</th>\n",
       "      <th>3066</th>\n",
       "      <th>3067</th>\n",
       "      <th>3068</th>\n",
       "      <th>3069</th>\n",
       "      <th>3070</th>\n",
       "      <th>3071</th>\n",
       "    </tr>\n",
       "  </thead>\n",
       "  <tbody>\n",
       "    <tr>\n",
       "      <th>1</th>\n",
       "      <td>0.007018</td>\n",
       "      <td>0.000323</td>\n",
       "      <td>0.002215</td>\n",
       "      <td>0.000781</td>\n",
       "      <td>-0.005636</td>\n",
       "      <td>-0.001525</td>\n",
       "      <td>-0.001090</td>\n",
       "      <td>-0.001907</td>\n",
       "      <td>0.004179</td>\n",
       "      <td>-0.004225</td>\n",
       "      <td>...</td>\n",
       "      <td>0.004146</td>\n",
       "      <td>-0.002166</td>\n",
       "      <td>-0.005094</td>\n",
       "      <td>0.001906</td>\n",
       "      <td>-0.006143</td>\n",
       "      <td>-0.013265</td>\n",
       "      <td>-0.013873</td>\n",
       "      <td>0.005223</td>\n",
       "      <td>-0.000860</td>\n",
       "      <td>-0.012881</td>\n",
       "    </tr>\n",
       "    <tr>\n",
       "      <th>2</th>\n",
       "      <td>0.000819</td>\n",
       "      <td>0.001688</td>\n",
       "      <td>0.002698</td>\n",
       "      <td>0.004685</td>\n",
       "      <td>0.011166</td>\n",
       "      <td>0.017482</td>\n",
       "      <td>0.045989</td>\n",
       "      <td>0.031377</td>\n",
       "      <td>0.032150</td>\n",
       "      <td>0.062066</td>\n",
       "      <td>...</td>\n",
       "      <td>-0.000530</td>\n",
       "      <td>0.007203</td>\n",
       "      <td>0.008634</td>\n",
       "      <td>0.006800</td>\n",
       "      <td>0.014114</td>\n",
       "      <td>0.000243</td>\n",
       "      <td>-0.019384</td>\n",
       "      <td>-0.046763</td>\n",
       "      <td>-0.048919</td>\n",
       "      <td>-0.057449</td>\n",
       "    </tr>\n",
       "    <tr>\n",
       "      <th>3</th>\n",
       "      <td>-0.016779</td>\n",
       "      <td>0.006662</td>\n",
       "      <td>-0.007226</td>\n",
       "      <td>-0.003798</td>\n",
       "      <td>-0.004273</td>\n",
       "      <td>-0.009955</td>\n",
       "      <td>-0.030925</td>\n",
       "      <td>-0.007064</td>\n",
       "      <td>0.008136</td>\n",
       "      <td>0.000618</td>\n",
       "      <td>...</td>\n",
       "      <td>-0.029953</td>\n",
       "      <td>-0.023748</td>\n",
       "      <td>0.047707</td>\n",
       "      <td>0.072310</td>\n",
       "      <td>0.056837</td>\n",
       "      <td>0.045410</td>\n",
       "      <td>0.015561</td>\n",
       "      <td>0.003272</td>\n",
       "      <td>-0.013745</td>\n",
       "      <td>0.000968</td>\n",
       "    </tr>\n",
       "    <tr>\n",
       "      <th>4</th>\n",
       "      <td>0.014936</td>\n",
       "      <td>0.004218</td>\n",
       "      <td>0.009732</td>\n",
       "      <td>0.007309</td>\n",
       "      <td>0.004914</td>\n",
       "      <td>0.008172</td>\n",
       "      <td>0.014205</td>\n",
       "      <td>-0.023263</td>\n",
       "      <td>-0.023014</td>\n",
       "      <td>0.011482</td>\n",
       "      <td>...</td>\n",
       "      <td>-0.004505</td>\n",
       "      <td>-0.029634</td>\n",
       "      <td>-0.024069</td>\n",
       "      <td>-0.000788</td>\n",
       "      <td>-0.005010</td>\n",
       "      <td>-0.004260</td>\n",
       "      <td>0.014308</td>\n",
       "      <td>-0.010997</td>\n",
       "      <td>-0.025966</td>\n",
       "      <td>-0.025786</td>\n",
       "    </tr>\n",
       "    <tr>\n",
       "      <th>5</th>\n",
       "      <td>-0.073091</td>\n",
       "      <td>-0.046800</td>\n",
       "      <td>-0.056235</td>\n",
       "      <td>-0.063619</td>\n",
       "      <td>-0.088387</td>\n",
       "      <td>-0.044682</td>\n",
       "      <td>-0.014172</td>\n",
       "      <td>-0.077535</td>\n",
       "      <td>-0.100056</td>\n",
       "      <td>-0.066161</td>\n",
       "      <td>...</td>\n",
       "      <td>0.011063</td>\n",
       "      <td>-0.018166</td>\n",
       "      <td>0.012983</td>\n",
       "      <td>0.022676</td>\n",
       "      <td>0.014233</td>\n",
       "      <td>0.047403</td>\n",
       "      <td>0.052239</td>\n",
       "      <td>-0.029272</td>\n",
       "      <td>0.001368</td>\n",
       "      <td>-0.001475</td>\n",
       "    </tr>\n",
       "  </tbody>\n",
       "</table>\n",
       "<p>5 rows × 3072 columns</p>\n",
       "</div>"
      ],
      "text/plain": [
       "       0         1         2         3         4         5         6     \\\n",
       "1  0.007018  0.000323  0.002215  0.000781 -0.005636 -0.001525 -0.001090   \n",
       "2  0.000819  0.001688  0.002698  0.004685  0.011166  0.017482  0.045989   \n",
       "3 -0.016779  0.006662 -0.007226 -0.003798 -0.004273 -0.009955 -0.030925   \n",
       "4  0.014936  0.004218  0.009732  0.007309  0.004914  0.008172  0.014205   \n",
       "5 -0.073091 -0.046800 -0.056235 -0.063619 -0.088387 -0.044682 -0.014172   \n",
       "\n",
       "       7         8         9     ...      3062      3063      3064      3065  \\\n",
       "1 -0.001907  0.004179 -0.004225  ...  0.004146 -0.002166 -0.005094  0.001906   \n",
       "2  0.031377  0.032150  0.062066  ... -0.000530  0.007203  0.008634  0.006800   \n",
       "3 -0.007064  0.008136  0.000618  ... -0.029953 -0.023748  0.047707  0.072310   \n",
       "4 -0.023263 -0.023014  0.011482  ... -0.004505 -0.029634 -0.024069 -0.000788   \n",
       "5 -0.077535 -0.100056 -0.066161  ...  0.011063 -0.018166  0.012983  0.022676   \n",
       "\n",
       "       3066      3067      3068      3069      3070      3071  \n",
       "1 -0.006143 -0.013265 -0.013873  0.005223 -0.000860 -0.012881  \n",
       "2  0.014114  0.000243 -0.019384 -0.046763 -0.048919 -0.057449  \n",
       "3  0.056837  0.045410  0.015561  0.003272 -0.013745  0.000968  \n",
       "4 -0.005010 -0.004260  0.014308 -0.010997 -0.025966 -0.025786  \n",
       "5  0.014233  0.047403  0.052239 -0.029272  0.001368 -0.001475  \n",
       "\n",
       "[5 rows x 3072 columns]"
      ]
     },
     "metadata": {},
     "output_type": "display_data"
    }
   ],
   "source": [
    "#Change the index from 0 to 4999 to 1 to 5000\n",
    "X_train.index = X_train.index+1 #To have the same index as Y_train\n",
    "display(X_train.head())"
   ]
  },
  {
   "cell_type": "code",
   "execution_count": 10,
   "metadata": {},
   "outputs": [
    {
     "data": {
      "text/html": [
       "<div>\n",
       "<style scoped>\n",
       "    .dataframe tbody tr th:only-of-type {\n",
       "        vertical-align: middle;\n",
       "    }\n",
       "\n",
       "    .dataframe tbody tr th {\n",
       "        vertical-align: top;\n",
       "    }\n",
       "\n",
       "    .dataframe thead th {\n",
       "        text-align: right;\n",
       "    }\n",
       "</style>\n",
       "<table border=\"1\" class=\"dataframe\">\n",
       "  <thead>\n",
       "    <tr style=\"text-align: right;\">\n",
       "      <th></th>\n",
       "      <th>Prediction</th>\n",
       "    </tr>\n",
       "    <tr>\n",
       "      <th>Id</th>\n",
       "      <th></th>\n",
       "    </tr>\n",
       "  </thead>\n",
       "  <tbody>\n",
       "    <tr>\n",
       "      <th>1</th>\n",
       "      <td>8</td>\n",
       "    </tr>\n",
       "    <tr>\n",
       "      <th>2</th>\n",
       "      <td>9</td>\n",
       "    </tr>\n",
       "    <tr>\n",
       "      <th>3</th>\n",
       "      <td>3</td>\n",
       "    </tr>\n",
       "    <tr>\n",
       "      <th>4</th>\n",
       "      <td>1</td>\n",
       "    </tr>\n",
       "    <tr>\n",
       "      <th>5</th>\n",
       "      <td>4</td>\n",
       "    </tr>\n",
       "  </tbody>\n",
       "</table>\n",
       "</div>"
      ],
      "text/plain": [
       "    Prediction\n",
       "Id            \n",
       "1            8\n",
       "2            9\n",
       "3            3\n",
       "4            1\n",
       "5            4"
      ]
     },
     "metadata": {},
     "output_type": "display_data"
    }
   ],
   "source": [
    "#Set the index of Y_train by the column Id\n",
    "Y_train = Y_train.set_index('Id')\n",
    "display(Y_train.head())"
   ]
  },
  {
   "cell_type": "markdown",
   "metadata": {},
   "source": [
    "**2. Data visualization.** In order to have deeper knowledge of the data we are working with let visualize the images of the set."
   ]
  },
  {
   "cell_type": "code",
   "execution_count": 11,
   "metadata": {},
   "outputs": [
    {
     "data": {
      "image/png": "[encoded data removed]",
      "text/plain": [
       "<Figure size 640x480 with 1 Axes>"
      ]
     },
     "metadata": {},
     "output_type": "display_data"
    },
    {
     "data": {
      "image/png": "[encoded data removed]",
      "text/plain": [
       "<Figure size 640x480 with 1 Axes>"
      ]
     },
     "metadata": {},
     "output_type": "display_data"
    },
    {
     "data": {
      "image/png": "[encoded data removed]",
      "text/plain": [
       "<Figure size 640x480 with 1 Axes>"
      ]
     },
     "metadata": {},
     "output_type": "display_data"
    },
    {
     "data": {
      "image/png": "[encoded data removed]",
      "text/plain": [
       "<Figure size 640x480 with 1 Axes>"
      ]
     },
     "metadata": {},
     "output_type": "display_data"
    },
    {
     "data": {
      "image/png": "[encoded data removed]",
      "text/plain": [
       "<Figure size 640x480 with 1 Axes>"
      ]
     },
     "metadata": {},
     "output_type": "display_data"
    },
    {
     "data": {
      "image/png": "[encoded data removed]",
      "text/plain": [
       "<Figure size 640x480 with 1 Axes>"
      ]
     },
     "metadata": {},
     "output_type": "display_data"
    },
    {
     "data": {
      "image/png": "[encoded data removed]",
      "text/plain": [
       "<Figure size 640x480 with 1 Axes>"
      ]
     },
     "metadata": {},
     "output_type": "display_data"
    },
    {
     "data": {
      "image/png": "[encoded data removed]",
      "text/plain": [
       "<Figure size 640x480 with 1 Axes>"
      ]
     },
     "metadata": {},
     "output_type": "display_data"
    },
    {
     "data": {
      "image/png": "[encoded data removed]",
      "text/plain": [
       "<Figure size 640x480 with 1 Axes>"
      ]
     },
     "metadata": {},
     "output_type": "display_data"
    },
    {
     "data": {
      "image/png": "[encoded data removed]",
      "text/plain": [
       "<Figure size 640x480 with 1 Axes>"
      ]
     },
     "metadata": {},
     "output_type": "display_data"
    }
   ],
   "source": [
    "#Visualize the images of the first 5 samples\n",
    "for i in range(10,20):\n",
    "    # image = np.reshape(np.array(X_train.loc[i]), (3,32,32)).astype(float)\n",
    "    image = np.reshape(Xtr[i], (3,32,32)).astype(float)\n",
    "\n",
    "\n",
    "    #image = image / 2 + 0.5\n",
    "    # Separate color channels\n",
    "    red_channel = image[0]\n",
    "    green_channel = image[1]\n",
    "    blue_channel = image[2]\n",
    "\n",
    "    \n",
    "    # Normalize each channel \n",
    "    red_channel = (red_channel- red_channel.min()) / (red_channel.max()-red_channel.min())\n",
    "    green_channel = (green_channel - green_channel.min()) / (green_channel.max()-green_channel.min())\n",
    "    blue_channel = (blue_channel - blue_channel.min()) / (blue_channel.max() - blue_channel.min())\n",
    "\n",
    "    # Combine channels to form the original image\n",
    "    original_image = np.stack((red_channel, green_channel, blue_channel), axis=-1)\n",
    "\n",
    "    plt.imshow(np.clip(original_image, a_min=0, a_max=1),cmap='viridis', vmin=0, vmax=1)\n",
    "    plt.title('Label: '+str(Ytr[i]))\n",
    "    plt.show()"
   ]
  },
  {
   "cell_type": "code",
   "execution_count": 12,
   "metadata": {},
   "outputs": [
    {
     "data": {
      "image/png": "[encoded data removed]",
      "text/plain": [
       "<Figure size 640x480 with 1 Axes>"
      ]
     },
     "metadata": {},
     "output_type": "display_data"
    }
   ],
   "source": [
    "#Visualize the distribution of the labels\n",
    "plt.hist(Ytr, bins=10, alpha=0.75, color='blue', edgecolor='black')\n",
    "plt.show()"
   ]
  },
  {
   "cell_type": "markdown",
   "metadata": {},
   "source": [
    "**Implementation of Kernel SVM**"
   ]
  },
  {
   "cell_type": "code",
   "execution_count": 13,
   "metadata": {},
   "outputs": [],
   "source": [
    "class LinearKernel:\n",
    "    def __call__(self, X1, X2):\n",
    "        return X1 @ X2.T\n",
    "class PolynomialKernel:\n",
    "    def __init__(self, p=3):\n",
    "        self.p = p\n",
    "    def __call__(self, X1, X2):\n",
    "        return (X1 @ X2.T + 1) ** self.p\n",
    "\n",
    "class RBF:\n",
    "    def __init__(self, sigma=1.):\n",
    "        self.sigma = sigma  ## the variance of the kernel\n",
    "    def __call__(self,X,Y):\n",
    "        ## Input vectors X and Y of shape Nxd and Mxd\n",
    "        dists = np.square(X)[:, np.newaxis].sum(axis=2) - 2*X @ Y.T + np.square(Y).sum(axis=1)\n",
    "        return np.exp(-dists/(2*self.sigma**2))"
   ]
  },
  {
   "cell_type": "code",
   "execution_count": 14,
   "metadata": {},
   "outputs": [],
   "source": [
    "class KernelSVC:\n",
    "    \n",
    "    def __init__(self, C, kernel, epsilon = 1e-3):\n",
    "        self.type = 'non-linear'\n",
    "        self.C = C                               \n",
    "        self.kernel = kernel        \n",
    "        self.alpha = None\n",
    "        self.support = None\n",
    "        self.epsilon = epsilon\n",
    "        self.norm_f = None\n",
    "       \n",
    "    \n",
    "    def fit(self, X, y):\n",
    "       #### You might define here any variable needed for the rest of the code\n",
    "        N = len(y)\n",
    "        print(\"Building K...\")\n",
    "        K = self.kernel(X,X)\n",
    "        print(\"Building K - done\")\n",
    "        # Lagrange dual problem\n",
    "        def loss(alpha):\n",
    "             #'''--------------dual loss ------------------ '''\n",
    "            return -alpha@np.ones(N) + 0.5 * (alpha*y) @ K @ (alpha*y)\n",
    "\n",
    "        # Partial derivate of Ld on alpha\n",
    "        def grad_loss(alpha):\n",
    "            # '''----------------partial derivative of the dual loss wrt alpha -----------------'''\n",
    "            return np.diag(y) @ K @ (alpha*y) - np.ones(N)\n",
    "\n",
    "\n",
    "        # Constraints on alpha of the shape :\n",
    "        # -  d - C*alpha  = 0\n",
    "        # -  b - A*alpha >= 0\n",
    "\n",
    "        fun_eq = lambda alpha: alpha @ y # '''----------------function defining the equality constraint------------------'''        \n",
    "        jac_eq = lambda alpha:  y  #'''----------------jacobian wrt alpha of the  equality constraint------------------'''\n",
    "        fun_ineq = lambda alpha: np.hstack((np.zeros(N), self.C*np.ones(N))) + np.hstack((alpha, -alpha))  # '''---------------function defining the inequality constraint-------------------'''     \n",
    "        jac_ineq = lambda alpha: np.vstack((np.eye(N), -1*np.eye(N))) # '''---------------jacobian wrt alpha of the  inequality constraint-------------------'''\n",
    "        \n",
    "        constraints = ({'type': 'eq',  'fun': fun_eq, 'jac': jac_eq},\n",
    "                       {'type': 'ineq', \n",
    "                        'fun': fun_ineq , \n",
    "                        'jac': jac_ineq})\n",
    "\n",
    "        optRes = optimize.minimize(fun=lambda alpha: loss(alpha),\n",
    "                                   x0=np.ones(N), \n",
    "                                   method='SLSQP', \n",
    "                                   jac=lambda alpha: grad_loss(alpha), \n",
    "                                   constraints=constraints)\n",
    "        self.alpha = optRes.x\n",
    "        \n",
    "        ## Assign the required attributes\n",
    "        support_idxs  = np.argwhere(~np.isclose(self.alpha, 0)).squeeze()\n",
    "        self.support = X[support_idxs]\n",
    "        self.alpha_support = self.alpha[support_idxs]\n",
    "        self.y_support = y[support_idxs]\n",
    "        margin_idxs = np.intersect1d(support_idxs, np.argwhere(~np.isclose(self.alpha, self.C)).squeeze())\n",
    "        self.margin_points = X[margin_idxs]#'''------------------- A matrix with each row corresponding to a point that falls on the margin ------------------'''\n",
    "        \n",
    "        self.b = np.mean(y[margin_idxs] - K[np.ix_(margin_idxs , support_idxs)] @ \\\n",
    "            (self.alpha_support*self.y_support))  #''' -----------------offset of the classifier------------------ '''\n",
    "        self.norm_f = np.sqrt((self.alpha_support*self.y_support) @ \\\n",
    "            K[np.ix_(support_idxs , support_idxs)] @ (self.alpha_support*self.y_support))# '''------------------------RKHS norm of the function f ------------------------------'''\n",
    "\n",
    "\n",
    "    ### Implementation of the separting function $f$ \n",
    "    def separating_function(self,x):\n",
    "        # Input : matrix x of shape N data points times d dimension\n",
    "        # Output: vector of size N\n",
    "        return self.kernel(x, self.support) @ (self.alpha_support*self.y_support)\n",
    "\n",
    "    \n",
    "    \n",
    "    def predict(self, X):\n",
    "        \"\"\" Predict y values in {-1, 1} \"\"\"\n",
    "        d = self.separating_function(X)\n",
    "        return 2 * (d+self.b> 0) - 1"
   ]
  },
  {
   "cell_type": "code",
   "execution_count": 53,
   "metadata": {},
   "outputs": [],
   "source": [
    "class MulticlassKernelSVC:\n",
    "    def __init__(self, C, kernel, epsilon = 1e-3):\n",
    "        self.C = C\n",
    "        self.kernel = kernel\n",
    "        self.epsilon = epsilon\n",
    "        self.models = []\n",
    "        self.classes = []\n",
    "    \n",
    "    def fit(self, X, y):\n",
    "        self.classes = np.unique(y)\n",
    "\n",
    "        for c in self.classes:\n",
    "            y_bin = 2*(y == c)-1\n",
    "            y_c_idxs = np.where(y_bin == 1)[0]\n",
    "            num_c = len(y_c_idxs)\n",
    "            y_nc_idxs = np.where(y_bin == -1)[0]\n",
    "            # get the same number of samples for each class\n",
    "            y_nc = np.random.choice(y_nc_idxs, num_c, replace=False)\n",
    "            y_bin = y_bin[np.union1d(y_c_idxs, y_nc)]\n",
    "            X_bin = X[np.union1d(y_c_idxs, y_nc)]\n",
    "            model = KernelSVC(self.C, self.kernel, self.epsilon)\n",
    "            model.fit(X_bin, y_bin)\n",
    "            # model.fit(X, y_bin)\n",
    "            self.models.append(model)\n",
    "    \n",
    "    def predict(self, X):\n",
    "        pred = np.zeros((X.shape[0], len(self.classes)))\n",
    "        for i, model in enumerate(self.models):\n",
    "            pred[:, i] = model.separating_function(X) + model.b\n",
    "        return self.classes[np.argmax(pred, axis=1)]"
   ]
  },
  {
   "cell_type": "code",
   "execution_count": 34,
   "metadata": {},
   "outputs": [],
   "source": [
    "# split the data into training and validation sets\n",
    "from sklearn.model_selection import train_test_split\n",
    "X_train, X_val, Y_train, Y_val = train_test_split(Xtr, Ytr, test_size=0.2, random_state=42)"
   ]
  },
  {
   "cell_type": "code",
   "execution_count": null,
   "metadata": {},
   "outputs": [],
   "source": []
  },
  {
   "cell_type": "code",
   "execution_count": null,
   "metadata": {},
   "outputs": [],
   "source": []
  },
  {
   "cell_type": "code",
   "execution_count": 19,
   "metadata": {},
   "outputs": [
    {
     "data": {
      "text/plain": [
       "(array([ 95., 103.,  97.,  86., 100., 106., 120.,  96., 100.,  97.]),\n",
       " array([0. , 0.9, 1.8, 2.7, 3.6, 4.5, 5.4, 6.3, 7.2, 8.1, 9. ]),\n",
       " <BarContainer object of 10 artists>)"
      ]
     },
     "execution_count": 19,
     "metadata": {},
     "output_type": "execute_result"
    },
    {
     "data": {
      "image/png": "[encoded data removed]",
      "text/plain": [
       "<Figure size 640x480 with 1 Axes>"
      ]
     },
     "metadata": {},
     "output_type": "display_data"
    }
   ],
   "source": [
    "plt.hist(Y_val, bins=10, alpha=0.75, color='blue', edgecolor='black')"
   ]
  },
  {
   "cell_type": "code",
   "execution_count": 20,
   "metadata": {},
   "outputs": [
    {
     "data": {
      "text/plain": [
       "(4000, 1000, 4000, 1000)"
      ]
     },
     "execution_count": 20,
     "metadata": {},
     "output_type": "execute_result"
    }
   ],
   "source": [
    "len(X_train), len(X_val), len(Y_train), len(Y_val)"
   ]
  },
  {
   "cell_type": "code",
   "execution_count": 43,
   "metadata": {},
   "outputs": [],
   "source": [
    "kernel = RBF(sigma=1)"
   ]
  },
  {
   "cell_type": "code",
   "execution_count": 44,
   "metadata": {},
   "outputs": [],
   "source": [
    "multiKSVC = MulticlassKernelSVC(C=1, kernel=kernel)"
   ]
  },
  {
   "cell_type": "code",
   "execution_count": 45,
   "metadata": {},
   "outputs": [
    {
     "name": "stdout",
     "output_type": "stream",
     "text": [
      "Building K...\n",
      "Building K - done\n",
      "Building K...\n",
      "Building K - done\n",
      "Building K...\n",
      "Building K - done\n",
      "Building K...\n",
      "Building K - done\n",
      "Building K...\n",
      "Building K - done\n",
      "Building K...\n",
      "Building K - done\n",
      "Building K...\n",
      "Building K - done\n",
      "Building K...\n",
      "Building K - done\n",
      "Building K...\n",
      "Building K - done\n",
      "Building K...\n",
      "Building K - done\n"
     ]
    }
   ],
   "source": [
    "multiKSVC.fit(X_train, Y_train)"
   ]
  },
  {
   "cell_type": "code",
   "execution_count": 46,
   "metadata": {},
   "outputs": [],
   "source": [
    "y_pred = multiKSVC.predict(X_val)"
   ]
  },
  {
   "cell_type": "code",
   "execution_count": 47,
   "metadata": {},
   "outputs": [
    {
     "data": {
      "text/plain": [
       "0.222"
      ]
     },
     "execution_count": 47,
     "metadata": {},
     "output_type": "execute_result"
    }
   ],
   "source": [
    "sum(y_pred == Y_val) / len(Y_val)"
   ]
  },
  {
   "cell_type": "code",
   "execution_count": 41,
   "metadata": {},
   "outputs": [],
   "source": [
    "Yte = multiKSVC.predict(Xte) \n",
    "Yte = {'Prediction' : Yte} \n",
    "dataframe = pd.DataFrame(Yte) \n",
    "dataframe.index += 1 \n",
    "dataframe.to_csv('./Yte_pred.csv',index_label='Id')"
   ]
  },
  {
   "cell_type": "code",
   "execution_count": 29,
   "metadata": {},
   "outputs": [],
   "source": [
    "# trying polynomial kernel\n",
    "kernel = LinearKernel()"
   ]
  },
  {
   "cell_type": "code",
   "execution_count": 30,
   "metadata": {},
   "outputs": [],
   "source": [
    "multiKSVC_poly = MulticlassKernelSVC(C=1, kernel=kernel)"
   ]
  },
  {
   "cell_type": "code",
   "execution_count": 31,
   "metadata": {},
   "outputs": [
    {
     "name": "stdout",
     "output_type": "stream",
     "text": [
      "Building K...\n",
      "Intel MKL WARNING: Support of Intel(R) Streaming SIMD Extensions 4.2 (Intel(R) SSE4.2) enabled only processors has been deprecated. Intel oneAPI Math Kernel Library 2025.0 will require Intel(R) Advanced Vector Extensions (Intel(R) AVX) instructions.\n",
      "Building K - done\n",
      "Building K...\n",
      "Intel MKL WARNING: Support of Intel(R) Streaming SIMD Extensions 4.2 (Intel(R) SSE4.2) enabled only processors has been deprecated. Intel oneAPI Math Kernel Library 2025.0 will require Intel(R) Advanced Vector Extensions (Intel(R) AVX) instructions.\n",
      "Building K - done\n",
      "Building K...\n",
      "Intel MKL WARNING: Support of Intel(R) Streaming SIMD Extensions 4.2 (Intel(R) SSE4.2) enabled only processors has been deprecated. Intel oneAPI Math Kernel Library 2025.0 will require Intel(R) Advanced Vector Extensions (Intel(R) AVX) instructions.\n",
      "Building K - done\n",
      "Building K...\n",
      "Intel MKL WARNING: Support of Intel(R) Streaming SIMD Extensions 4.2 (Intel(R) SSE4.2) enabled only processors has been deprecated. Intel oneAPI Math Kernel Library 2025.0 will require Intel(R) Advanced Vector Extensions (Intel(R) AVX) instructions.\n",
      "Building K - done\n",
      "Building K...\n",
      "Intel MKL WARNING: Support of Intel(R) Streaming SIMD Extensions 4.2 (Intel(R) SSE4.2) enabled only processors has been deprecated. Intel oneAPI Math Kernel Library 2025.0 will require Intel(R) Advanced Vector Extensions (Intel(R) AVX) instructions.\n",
      "Building K - done\n",
      "Building K...\n",
      "Intel MKL WARNING: Support of Intel(R) Streaming SIMD Extensions 4.2 (Intel(R) SSE4.2) enabled only processors has been deprecated. Intel oneAPI Math Kernel Library 2025.0 will require Intel(R) Advanced Vector Extensions (Intel(R) AVX) instructions.\n",
      "Building K - done\n",
      "Building K...\n",
      "Intel MKL WARNING: Support of Intel(R) Streaming SIMD Extensions 4.2 (Intel(R) SSE4.2) enabled only processors has been deprecated. Intel oneAPI Math Kernel Library 2025.0 will require Intel(R) Advanced Vector Extensions (Intel(R) AVX) instructions.\n",
      "Building K - done\n",
      "Building K...\n",
      "Intel MKL WARNING: Support of Intel(R) Streaming SIMD Extensions 4.2 (Intel(R) SSE4.2) enabled only processors has been deprecated. Intel oneAPI Math Kernel Library 2025.0 will require Intel(R) Advanced Vector Extensions (Intel(R) AVX) instructions.\n",
      "Building K - done\n",
      "Building K...\n",
      "Intel MKL WARNING: Support of Intel(R) Streaming SIMD Extensions 4.2 (Intel(R) SSE4.2) enabled only processors has been deprecated. Intel oneAPI Math Kernel Library 2025.0 will require Intel(R) Advanced Vector Extensions (Intel(R) AVX) instructions.\n",
      "Building K - done\n",
      "Building K...\n",
      "Intel MKL WARNING: Support of Intel(R) Streaming SIMD Extensions 4.2 (Intel(R) SSE4.2) enabled only processors has been deprecated. Intel oneAPI Math Kernel Library 2025.0 will require Intel(R) Advanced Vector Extensions (Intel(R) AVX) instructions.\n",
      "Building K - done\n"
     ]
    }
   ],
   "source": [
    "multiKSVC_poly.fit(X_train, Y_train)"
   ]
  },
  {
   "cell_type": "code",
   "execution_count": 32,
   "metadata": {},
   "outputs": [],
   "source": [
    "y_pred_poly = multiKSVC_poly.predict(X_val)"
   ]
  },
  {
   "cell_type": "code",
   "execution_count": 33,
   "metadata": {},
   "outputs": [
    {
     "data": {
      "text/plain": [
       "0.142"
      ]
     },
     "execution_count": 33,
     "metadata": {},
     "output_type": "execute_result"
    }
   ],
   "source": [
    "sum(y_pred_poly == Y_val) / len(Y_val)"
   ]
  },
  {
   "cell_type": "code",
   "execution_count": 137,
   "metadata": {},
   "outputs": [
    {
     "data": {
      "text/plain": [
       "(0, 9)"
      ]
     },
     "execution_count": 137,
     "metadata": {},
     "output_type": "execute_result"
    }
   ],
   "source": [
    "min(y_pred), max(y_pred)"
   ]
  },
  {
   "cell_type": "code",
   "execution_count": 138,
   "metadata": {},
   "outputs": [
    {
     "data": {
      "text/plain": [
       "(array([161., 333., 233., 126., 179., 149., 114., 179., 153., 373.]),\n",
       " array([0. , 0.9, 1.8, 2.7, 3.6, 4.5, 5.4, 6.3, 7.2, 8.1, 9. ]),\n",
       " <BarContainer object of 10 artists>)"
      ]
     },
     "execution_count": 138,
     "metadata": {},
     "output_type": "execute_result"
    },
    {
     "data": {
      "image/png": "[encoded data removed]",
      "text/plain": [
       "<Figure size 640x480 with 1 Axes>"
      ]
     },
     "metadata": {},
     "output_type": "display_data"
    }
   ],
   "source": [
    "plt.hist(y_pred, bins=10, alpha=0.75, color='blue', edgecolor='black')"
   ]
  },
  {
   "cell_type": "code",
   "execution_count": 41,
   "metadata": {},
   "outputs": [
    {
     "data": {
      "text/plain": [
       "1000"
      ]
     },
     "execution_count": 41,
     "metadata": {},
     "output_type": "execute_result"
    }
   ],
   "source": [
    "# Primero probando con las dos primeras etiquetas a ver q tal\n",
    "indices= np.union1d(np.where(Ytr == 1)[0], np.where(Ytr == 2)[0])\n",
    "len(indices)"
   ]
  },
  {
   "cell_type": "code",
   "execution_count": 42,
   "metadata": {},
   "outputs": [],
   "source": [
    "Y = Ytr[indices]\n",
    "X = Xtr[indices]"
   ]
  },
  {
   "cell_type": "code",
   "execution_count": 44,
   "metadata": {},
   "outputs": [
    {
     "data": {
      "text/plain": [
       "(800, 200, 800, 200)"
      ]
     },
     "execution_count": 44,
     "metadata": {},
     "output_type": "execute_result"
    }
   ],
   "source": [
    "# split X and Y into training and testing sets\n",
    "from sklearn.model_selection import train_test_split\n",
    "X_tr, X_t, Y_tr, Y_t = train_test_split(X, Y, test_size=0.2, random_state=42)\n",
    "len(X_tr), len(X_t), len(Y_tr), len(Y_t)"
   ]
  },
  {
   "cell_type": "code",
   "execution_count": 50,
   "metadata": {},
   "outputs": [
    {
     "name": "stdout",
     "output_type": "stream",
     "text": [
      "(4000, 3072) (1000, 3072) (4000,) (1000,)\n"
     ]
    }
   ],
   "source": [
    "# Split the data into training and validation set\n",
    "from sklearn.model_selection import train_test_split\n",
    "X_train, X_val, Y_train, Y_val = train_test_split(Xtr, Ytr, test_size=0.2, random_state=42)\n",
    "print(X_train.shape, X_val.shape, Y_train.shape, Y_val.shape)"
   ]
  },
  {
   "cell_type": "code",
   "execution_count": null,
   "metadata": {},
   "outputs": [],
   "source": []
  },
  {
   "cell_type": "code",
   "execution_count": 97,
   "metadata": {},
   "outputs": [],
   "source": [
    "kernel = RBF(sigma=5)"
   ]
  },
  {
   "cell_type": "code",
   "execution_count": 98,
   "metadata": {},
   "outputs": [
    {
     "name": "stdout",
     "output_type": "stream",
     "text": [
      "Building K...\n",
      "Building K - done\n"
     ]
    }
   ],
   "source": [
    "# train a linear SVM\n",
    "classifier = KernelSVC(C=5, kernel=kernel)\n",
    "classifier.fit(X_tr,np.array([1 if y == 1 else -1 for y in Y_tr]))"
   ]
  },
  {
   "cell_type": "code",
   "execution_count": 48,
   "metadata": {},
   "outputs": [],
   "source": [
    "# get the mean among the three channels\n",
    "Xtr = Xtr.reshape(-1, 3, 32, 32).mean(axis=1).reshape(-1, 1024)\n",
    "Xte = Xte.reshape(-1, 3, 32, 32).mean(axis=1).reshape(-1, 1024)"
   ]
  },
  {
   "cell_type": "code",
   "execution_count": 49,
   "metadata": {},
   "outputs": [],
   "source": [
    "# split the data\n",
    "X_train, X_val, Y_train, Y_val = train_test_split(Xtr, Ytr, test_size=0.2, random_state=42)"
   ]
  },
  {
   "cell_type": "code",
   "execution_count": 50,
   "metadata": {},
   "outputs": [],
   "source": [
    "kernel = RBF(sigma=1)"
   ]
  },
  {
   "cell_type": "code",
   "execution_count": 54,
   "metadata": {},
   "outputs": [],
   "source": [
    "multiKSVC_1 = MulticlassKernelSVC(C=1, kernel=kernel)"
   ]
  },
  {
   "cell_type": "code",
   "execution_count": 55,
   "metadata": {},
   "outputs": [
    {
     "name": "stdout",
     "output_type": "stream",
     "text": [
      "Building K...\n",
      "Building K - done\n",
      "Building K...\n",
      "Building K - done\n",
      "Building K...\n",
      "Building K - done\n",
      "Building K...\n",
      "Building K - done\n",
      "Building K...\n",
      "Building K - done\n",
      "Building K...\n",
      "Building K - done\n",
      "Building K...\n",
      "Building K - done\n",
      "Building K...\n",
      "Building K - done\n",
      "Building K...\n",
      "Building K - done\n",
      "Building K...\n",
      "Building K - done\n"
     ]
    }
   ],
   "source": [
    "multiKSVC_1.fit(X_train, Y_train)"
   ]
  },
  {
   "cell_type": "code",
   "execution_count": 56,
   "metadata": {},
   "outputs": [],
   "source": [
    "y_pred_1 = multiKSVC_1.predict(X_val)"
   ]
  },
  {
   "cell_type": "code",
   "execution_count": 57,
   "metadata": {},
   "outputs": [
    {
     "data": {
      "text/plain": [
       "0.173"
      ]
     },
     "execution_count": 57,
     "metadata": {},
     "output_type": "execute_result"
    }
   ],
   "source": [
    "sum(y_pred_1 == Y_val) / len(Y_val)"
   ]
  }
 ],
 "metadata": {
  "kernelspec": {
   "display_name": "Python 3",
   "language": "python",
   "name": "python3"
  },
  "language_info": {
   "codemirror_mode": {
    "name": "ipython",
    "version": 3
   },
   "file_extension": ".py",
   "mimetype": "text/x-python",
   "name": "python",
   "nbconvert_exporter": "python",
   "pygments_lexer": "ipython3",
   "version": "3.10.13"
  }
 },
 "nbformat": 4,
 "nbformat_minor": 2
}
